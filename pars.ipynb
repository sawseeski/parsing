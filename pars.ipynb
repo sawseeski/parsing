{
 "cells": [
  {
   "cell_type": "code",
   "execution_count": 1,
   "id": "d3826580",
   "metadata": {},
   "outputs": [
    {
     "name": "stdout",
     "output_type": "stream",
     "text": [
      "Requirement already satisfied: requests in c:\\python\\lib\\site-packages (2.27.1)\n",
      "Requirement already satisfied: urllib3<1.27,>=1.21.1 in c:\\python\\lib\\site-packages (from requests) (1.26.9)\n",
      "Requirement already satisfied: charset-normalizer~=2.0.0 in c:\\python\\lib\\site-packages (from requests) (2.0.12)\n",
      "Requirement already satisfied: certifi>=2017.4.17 in c:\\python\\lib\\site-packages (from requests) (2022.5.18.1)\n",
      "Requirement already satisfied: idna<4,>=2.5 in c:\\python\\lib\\site-packages (from requests) (3.3)\n"
     ]
    },
    {
     "name": "stderr",
     "output_type": "stream",
     "text": [
      "WARNING: You are using pip version 21.2.4; however, version 22.1.1 is available.\n",
      "You should consider upgrading via the 'C:\\Python\\python.exe -m pip install --upgrade pip' command.\n"
     ]
    },
    {
     "name": "stdout",
     "output_type": "stream",
     "text": [
      "Requirement already satisfied: bs4 in c:\\python\\lib\\site-packages (0.0.1)\n",
      "Requirement already satisfied: beautifulsoup4 in c:\\python\\lib\\site-packages (from bs4) (4.11.1)\n",
      "Requirement already satisfied: soupsieve>1.2 in c:\\python\\lib\\site-packages (from beautifulsoup4->bs4) (2.3.2.post1)\n"
     ]
    },
    {
     "name": "stderr",
     "output_type": "stream",
     "text": [
      "WARNING: You are using pip version 21.2.4; however, version 22.1.1 is available.\n",
      "You should consider upgrading via the 'C:\\Python\\python.exe -m pip install --upgrade pip' command.\n"
     ]
    }
   ],
   "source": [
    "import requests\n",
    "from bs4 import BeautifulSoup\n",
    "import csv\n",
    "import os"
   ]
  },
  {
   "cell_type": "code",
   "execution_count": 2,
   "id": "a744c2b1",
   "metadata": {},
   "outputs": [],
   "source": [
    "HEADERS = {'User-Agent': 'Mozilla/5.0 (Linux; Android 6.0; Nexus 5 Build/MRA58N) AppleWebKit/537.36 (KHTML, like Gecko) Chrome/98.0.4758.132 Mobile Safari/537.36', 'accept': '*/*'}\n",
    "FILE='primer.csv'\n"
   ]
  },
  {
   "cell_type": "code",
   "execution_count": 3,
   "id": "30317b94",
   "metadata": {},
   "outputs": [],
   "source": [
    "def get_html(url, params=None):\n",
    "    r = requests.get(url, headers=HEADERS, params=params)\n",
    "    return r\n",
    "\n",
    "\n",
    "\n",
    "def get_content(html):\n",
    "    soup = BeautifulSoup(html, 'html.parser')\n",
    "    items = soup.find_all('td', class_='mtx')\n",
    "\n",
    "    ads = []\n",
    "    for item in items:\n",
    "        ads.append({\n",
    "            'title': item.find('a', class_='sbj').get_text(strip=True),\n",
    "        })\n",
    "    return ads\n",
    "\n",
    "def save_file(items, path):\n",
    "    with open(path, 'w', newline='') as file:\n",
    "        writer = csv.writer(file, delimiter=';')\n",
    "\n",
    "        for item in items:\n",
    "            writer.writerow([item['title']])"
   ]
  },
  {
   "cell_type": "code",
   "execution_count": 4,
   "id": "88475d60",
   "metadata": {},
   "outputs": [
    {
     "name": "stdout",
     "output_type": "stream",
     "text": [
      "Введите URL: https://www.doski.ru/cat-vse-dlya-doma/mebel/ofisnaya-mebel/\n",
      "Парсинг страницы 1 из 30...\n",
      "Парсинг страницы 2 из 30...\n",
      "Парсинг страницы 3 из 30...\n",
      "Парсинг страницы 4 из 30...\n",
      "Парсинг страницы 5 из 30...\n",
      "Парсинг страницы 6 из 30...\n",
      "Парсинг страницы 7 из 30...\n",
      "Парсинг страницы 8 из 30...\n",
      "Парсинг страницы 9 из 30...\n",
      "Парсинг страницы 10 из 30...\n",
      "Парсинг страницы 11 из 30...\n",
      "Парсинг страницы 12 из 30...\n",
      "Парсинг страницы 13 из 30...\n",
      "Парсинг страницы 14 из 30...\n",
      "Парсинг страницы 15 из 30...\n",
      "Парсинг страницы 16 из 30...\n",
      "Парсинг страницы 17 из 30...\n",
      "Парсинг страницы 18 из 30...\n",
      "Парсинг страницы 19 из 30...\n",
      "Парсинг страницы 20 из 30...\n",
      "Парсинг страницы 21 из 30...\n",
      "Парсинг страницы 22 из 30...\n",
      "Парсинг страницы 23 из 30...\n",
      "Парсинг страницы 24 из 30...\n",
      "Парсинг страницы 25 из 30...\n",
      "Парсинг страницы 26 из 30...\n",
      "Парсинг страницы 27 из 30...\n",
      "Парсинг страницы 28 из 30...\n",
      "Парсинг страницы 29 из 30...\n",
      "Парсинг страницы 30 из 30...\n",
      "Получено 600 объявлений\n"
     ]
    }
   ],
   "source": [
    "def parse():\n",
    "    URL = input('Введите URL: ')\n",
    "    URL = URL.strip()\n",
    "    html = get_html(URL)\n",
    "    if html.status_code == 200:\n",
    "        ads= []\n",
    "        pages_count = 30\n",
    "        for page in range(1, pages_count + 1):\n",
    "            print(f'Парсинг страницы {page} из {pages_count}...')\n",
    "            html = get_html(URL, params={'page': page})\n",
    "            ads.extend(get_content(html.text))\n",
    "        save_file(ads, FILE)\n",
    "        print(f'Получено {len(ads)} объявлений')\n",
    "        os.startfile(FILE)\n",
    "    else:\n",
    "        print('Error')\n",
    "\n",
    "\n",
    "parse()"
   ]
  },
  {
   "cell_type": "code",
   "execution_count": null,
   "id": "c59f5585",
   "metadata": {},
   "outputs": [],
   "source": []
  }
 ],
 "metadata": {
  "kernelspec": {
   "display_name": "Python 3 (ipykernel)",
   "language": "python",
   "name": "python3"
  },
  "language_info": {
   "codemirror_mode": {
    "name": "ipython",
    "version": 3
   },
   "file_extension": ".py",
   "mimetype": "text/x-python",
   "name": "python",
   "nbconvert_exporter": "python",
   "pygments_lexer": "ipython3",
   "version": "3.9.10"
  }
 },
 "nbformat": 4,
 "nbformat_minor": 5
}
